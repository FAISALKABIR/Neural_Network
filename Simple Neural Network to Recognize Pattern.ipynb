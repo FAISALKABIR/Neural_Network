{
 "cells": [
  {
   "cell_type": "code",
   "execution_count": 1,
   "metadata": {},
   "outputs": [
    {
     "name": "stdout",
     "output_type": "stream",
     "text": [
      "[0.99988214]\n"
     ]
    }
   ],
   "source": [
    "from numpy import exp, array, random, dot\n",
    "\n",
    "class neural_network:\n",
    "    def __init__(self):\n",
    "        random.seed(1)\n",
    "        # We model a single neuron with 3 inputs, 1 output and assign random weight.\n",
    "        self.weights = 2 * random.random((3, 1)) - 1\n",
    "        \n",
    "    def __sigmoid(self, x):\n",
    "        return 1 / (1 + exp(-x))\n",
    "    \n",
    "    def train(self, inputs, outputs, num):\n",
    "        for iteration in range(num):\n",
    "            output = self.think(inputs)\n",
    "            error = outputs - output\n",
    "            adjustment = dot(inputs.T, error * output * (1 - output))\n",
    "            self.weights += adjustment\n",
    "            \n",
    "    def think(self, inputs):\n",
    "        result = self.__sigmoid(dot(inputs, self.weights))\n",
    "        return result\n",
    "    \n",
    "network = neural_network()\n",
    "\n",
    "# The training set.\n",
    "inputs = array([[1, 1, 1], [1, 0, 1], [0, 1, 1]])\n",
    "outputs = array([[1, 1, 0]]).T\n",
    "\n",
    "# Trining the neural network using the training set.\n",
    "network.train(inputs, outputs, 10000)\n",
    "\n",
    "# Ask the neural network the output.\n",
    "print(network.think(array([1, 0, 0])))"
   ]
  },
  {
   "cell_type": "code",
   "execution_count": null,
   "metadata": {},
   "outputs": [],
   "source": []
  }
 ],
 "metadata": {
  "kernelspec": {
   "display_name": "Python 3",
   "language": "python",
   "name": "python3"
  },
  "language_info": {
   "codemirror_mode": {
    "name": "ipython",
    "version": 3
   },
   "file_extension": ".py",
   "mimetype": "text/x-python",
   "name": "python",
   "nbconvert_exporter": "python",
   "pygments_lexer": "ipython3",
   "version": "3.6.8"
  }
 },
 "nbformat": 4,
 "nbformat_minor": 2
}
